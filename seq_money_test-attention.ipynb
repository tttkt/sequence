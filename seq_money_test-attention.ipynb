{
 "cells": [
  {
   "cell_type": "markdown",
   "metadata": {},
   "source": [
    "## 문제 정의\n",
    "### Problem\n",
    "- format : regression\n",
    "\n",
    "### Input\n",
    "- definition : closing price which is scaled and not one-hot encoded including 5 timesteps of data\n",
    "- format : [sample, timesteps, features]\n",
    "\n",
    "### Output\n",
    "- definition : next 5 timesteps of closing price of the Input data which is scaled and not one-hot encoded\n",
    "- format : [timesteps, features]"
   ]
  },
  {
   "cell_type": "markdown",
   "metadata": {},
   "source": [
    "## Current Version Review\n",
    "### Current Version Summary\n",
    "\n",
    "### Current Version Result\n",
    "\n",
    "### Takeaways\n",
    "\n",
    "### Todos\n",
    "- softmax 로 복귀하여 다른 optimizer 와 loss function 을 테스트\n",
    "- 정수값 label 에서 sparse_categorical_crossentropy 테스트\n",
    "- 위 두 경우에 encoder/decoder 구조는 그대로 sequential을 유지\n",
    "- ㄴ 함수형 API로 작업되었던 것을 그대로 sequential로 컨버팅해 보기"
   ]
  },
  {
   "cell_type": "markdown",
   "metadata": {},
   "source": [
    "### 0. Import Libraries"
   ]
  },
  {
   "cell_type": "code",
   "execution_count": 201,
   "metadata": {},
   "outputs": [],
   "source": [
    "import numpy as np\n",
    "import pandas as pd\n",
    "import matplotlib.pyplot as plt\n",
    "\n",
    "import math\n",
    "import requests, json\n",
    "from urllib.parse import quote\n",
    "from numpy import array, argmax, array_equal\n",
    "from random import randint\n",
    "\n",
    "\n",
    "from keras import backend, optimizers\n",
    "from keras.models import Model, Sequential\n",
    "from keras.layers import Input, LSTM, Dense, Dropout, TimeDistributed, RepeatVector\n",
    "from keras.utils import to_categorical\n",
    "\n",
    "from attention_decoder import AttentionDecoder"
   ]
  },
  {
   "cell_type": "markdown",
   "metadata": {},
   "source": [
    "### 1. Load Data"
   ]
  },
  {
   "cell_type": "code",
   "execution_count": 79,
   "metadata": {},
   "outputs": [
    {
     "name": "stdout",
     "output_type": "stream",
     "text": [
      "train shape: (9000, 11)\n",
      "test shape: (1000, 11)\n"
     ]
    }
   ],
   "source": [
    "dataset = load_data('XRP', 1, 10000)\n",
    "train, test = split_data(x=dataset)\n",
    "print('train shape:',train.shape)\n",
    "print('test shape:', test.shape)"
   ]
  },
  {
   "cell_type": "code",
   "execution_count": 80,
   "metadata": {},
   "outputs": [
    {
     "data": {
      "text/plain": [
       "[<matplotlib.lines.Line2D at 0x134aa9cf8>]"
      ]
     },
     "execution_count": 80,
     "metadata": {},
     "output_type": "execute_result"
    },
    {
     "data": {
      "image/png": "[encoded data removed]",
      "text/plain": [
       "<Figure size 432x288 with 1 Axes>"
      ]
     },
     "metadata": {},
     "output_type": "display_data"
    }
   ],
   "source": [
    "plt.plot(dataset[:,[6]].astype(float)) # todo : 플롯 스타팅 포인트(x) 바꿔그리기"
   ]
  },
  {
   "cell_type": "markdown",
   "metadata": {},
   "source": [
    "### 2. Set constant values / hyperparameters"
   ]
  },
  {
   "cell_type": "code",
   "execution_count": 212,
   "metadata": {},
   "outputs": [],
   "source": [
    "col=[6]\n",
    "input_seq = 5\n",
    "output_seq = 5\n",
    "hidden = 1000\n",
    "batch_size = 512\n",
    "epoch = 10\n",
    "features = 1000"
   ]
  },
  {
   "cell_type": "markdown",
   "metadata": {},
   "source": [
    "### 3. Process data / Split to train and test"
   ]
  },
  {
   "cell_type": "code",
   "execution_count": 213,
   "metadata": {},
   "outputs": [],
   "source": [
    "meta, x, y, x2 = feed_maker(train, col, scale=False)"
   ]
  },
  {
   "cell_type": "markdown",
   "metadata": {},
   "source": [
    "### 4. Build / Train Model"
   ]
  },
  {
   "cell_type": "code",
   "execution_count": 214,
   "metadata": {},
   "outputs": [],
   "source": [
    "model = define_models(5,1000)\n",
    "adam = optimizers.Adam(lr=0.001, beta_1=0.9, beta_2=0.999, epsilon=1e-8)\n",
    "model.compile(loss='categorical_crossentropy', optimizer=adam, metrics=['acc'])"
   ]
  },
  {
   "cell_type": "code",
   "execution_count": 215,
   "metadata": {},
   "outputs": [
    {
     "name": "stdout",
     "output_type": "stream",
     "text": [
      "Train on 8091 samples, validate on 900 samples\n",
      "Epoch 1/10\n",
      "8091/8091 [==============================] - 92s 11ms/step - loss: 4.9416 - acc: 0.2237 - val_loss: 2.1537 - val_acc: 0.3253\n",
      "Epoch 2/10\n",
      "1024/8091 [==>...........................] - ETA: 1:10 - loss: 2.6074 - acc: 0.2816"
     ]
    },
    {
     "ename": "KeyboardInterrupt",
     "evalue": "",
     "output_type": "error",
     "traceback": [
      "\u001b[0;31m---------------------------------------------------------------------------\u001b[0m",
      "\u001b[0;31mKeyboardInterrupt\u001b[0m                         Traceback (most recent call last)",
      "\u001b[0;32m<ipython-input-215-90bd279d22c6>\u001b[0m in \u001b[0;36m<module>\u001b[0;34m()\u001b[0m\n\u001b[0;32m----> 1\u001b[0;31m \u001b[0mhist\u001b[0m \u001b[0;34m=\u001b[0m \u001b[0mmodel\u001b[0m\u001b[0;34m.\u001b[0m\u001b[0mfit\u001b[0m\u001b[0;34m(\u001b[0m\u001b[0mx\u001b[0m\u001b[0;34m,\u001b[0m \u001b[0my\u001b[0m\u001b[0;34m,\u001b[0m \u001b[0mbatch_size\u001b[0m\u001b[0;34m=\u001b[0m\u001b[0mbatch_size\u001b[0m\u001b[0;34m,\u001b[0m \u001b[0mepochs\u001b[0m\u001b[0;34m=\u001b[0m\u001b[0mepoch\u001b[0m\u001b[0;34m,\u001b[0m \u001b[0mvalidation_split\u001b[0m\u001b[0;34m=\u001b[0m\u001b[0;36m0.1\u001b[0m\u001b[0;34m)\u001b[0m\u001b[0;34m\u001b[0m\u001b[0m\n\u001b[0m",
      "\u001b[0;32m~/space/9/lib/python3.6/site-packages/keras/engine/training.py\u001b[0m in \u001b[0;36mfit\u001b[0;34m(self, x, y, batch_size, epochs, verbose, callbacks, validation_split, validation_data, shuffle, class_weight, sample_weight, initial_epoch, steps_per_epoch, validation_steps, **kwargs)\u001b[0m\n\u001b[1;32m   1035\u001b[0m                                         \u001b[0minitial_epoch\u001b[0m\u001b[0;34m=\u001b[0m\u001b[0minitial_epoch\u001b[0m\u001b[0;34m,\u001b[0m\u001b[0;34m\u001b[0m\u001b[0m\n\u001b[1;32m   1036\u001b[0m                                         \u001b[0msteps_per_epoch\u001b[0m\u001b[0;34m=\u001b[0m\u001b[0msteps_per_epoch\u001b[0m\u001b[0;34m,\u001b[0m\u001b[0;34m\u001b[0m\u001b[0m\n\u001b[0;32m-> 1037\u001b[0;31m                                         validation_steps=validation_steps)\n\u001b[0m\u001b[1;32m   1038\u001b[0m \u001b[0;34m\u001b[0m\u001b[0m\n\u001b[1;32m   1039\u001b[0m     def evaluate(self, x=None, y=None,\n",
      "\u001b[0;32m~/space/9/lib/python3.6/site-packages/keras/engine/training_arrays.py\u001b[0m in \u001b[0;36mfit_loop\u001b[0;34m(model, f, ins, out_labels, batch_size, epochs, verbose, callbacks, val_f, val_ins, shuffle, callback_metrics, initial_epoch, steps_per_epoch, validation_steps)\u001b[0m\n\u001b[1;32m    197\u001b[0m                     \u001b[0mins_batch\u001b[0m\u001b[0;34m[\u001b[0m\u001b[0mi\u001b[0m\u001b[0;34m]\u001b[0m \u001b[0;34m=\u001b[0m \u001b[0mins_batch\u001b[0m\u001b[0;34m[\u001b[0m\u001b[0mi\u001b[0m\u001b[0;34m]\u001b[0m\u001b[0;34m.\u001b[0m\u001b[0mtoarray\u001b[0m\u001b[0;34m(\u001b[0m\u001b[0;34m)\u001b[0m\u001b[0;34m\u001b[0m\u001b[0m\n\u001b[1;32m    198\u001b[0m \u001b[0;34m\u001b[0m\u001b[0m\n\u001b[0;32m--> 199\u001b[0;31m                 \u001b[0mouts\u001b[0m \u001b[0;34m=\u001b[0m \u001b[0mf\u001b[0m\u001b[0;34m(\u001b[0m\u001b[0mins_batch\u001b[0m\u001b[0;34m)\u001b[0m\u001b[0;34m\u001b[0m\u001b[0m\n\u001b[0m\u001b[1;32m    200\u001b[0m                 \u001b[0mouts\u001b[0m \u001b[0;34m=\u001b[0m \u001b[0mto_list\u001b[0m\u001b[0;34m(\u001b[0m\u001b[0mouts\u001b[0m\u001b[0;34m)\u001b[0m\u001b[0;34m\u001b[0m\u001b[0m\n\u001b[1;32m    201\u001b[0m                 \u001b[0;32mfor\u001b[0m \u001b[0ml\u001b[0m\u001b[0;34m,\u001b[0m \u001b[0mo\u001b[0m \u001b[0;32min\u001b[0m \u001b[0mzip\u001b[0m\u001b[0;34m(\u001b[0m\u001b[0mout_labels\u001b[0m\u001b[0;34m,\u001b[0m \u001b[0mouts\u001b[0m\u001b[0;34m)\u001b[0m\u001b[0;34m:\u001b[0m\u001b[0;34m\u001b[0m\u001b[0m\n",
      "\u001b[0;32m~/space/9/lib/python3.6/site-packages/keras/backend/tensorflow_backend.py\u001b[0m in \u001b[0;36m__call__\u001b[0;34m(self, inputs)\u001b[0m\n\u001b[1;32m   2664\u001b[0m                 \u001b[0;32mreturn\u001b[0m \u001b[0mself\u001b[0m\u001b[0;34m.\u001b[0m\u001b[0m_legacy_call\u001b[0m\u001b[0;34m(\u001b[0m\u001b[0minputs\u001b[0m\u001b[0;34m)\u001b[0m\u001b[0;34m\u001b[0m\u001b[0m\n\u001b[1;32m   2665\u001b[0m \u001b[0;34m\u001b[0m\u001b[0m\n\u001b[0;32m-> 2666\u001b[0;31m             \u001b[0;32mreturn\u001b[0m \u001b[0mself\u001b[0m\u001b[0;34m.\u001b[0m\u001b[0m_call\u001b[0m\u001b[0;34m(\u001b[0m\u001b[0minputs\u001b[0m\u001b[0;34m)\u001b[0m\u001b[0;34m\u001b[0m\u001b[0m\n\u001b[0m\u001b[1;32m   2667\u001b[0m         \u001b[0;32melse\u001b[0m\u001b[0;34m:\u001b[0m\u001b[0;34m\u001b[0m\u001b[0m\n\u001b[1;32m   2668\u001b[0m             \u001b[0;32mif\u001b[0m \u001b[0mpy_any\u001b[0m\u001b[0;34m(\u001b[0m\u001b[0mis_tensor\u001b[0m\u001b[0;34m(\u001b[0m\u001b[0mx\u001b[0m\u001b[0;34m)\u001b[0m \u001b[0;32mfor\u001b[0m \u001b[0mx\u001b[0m \u001b[0;32min\u001b[0m \u001b[0minputs\u001b[0m\u001b[0;34m)\u001b[0m\u001b[0;34m:\u001b[0m\u001b[0;34m\u001b[0m\u001b[0m\n",
      "\u001b[0;32m~/space/9/lib/python3.6/site-packages/keras/backend/tensorflow_backend.py\u001b[0m in \u001b[0;36m_call\u001b[0;34m(self, inputs)\u001b[0m\n\u001b[1;32m   2634\u001b[0m                                 \u001b[0msymbol_vals\u001b[0m\u001b[0;34m,\u001b[0m\u001b[0;34m\u001b[0m\u001b[0m\n\u001b[1;32m   2635\u001b[0m                                 session)\n\u001b[0;32m-> 2636\u001b[0;31m         \u001b[0mfetched\u001b[0m \u001b[0;34m=\u001b[0m \u001b[0mself\u001b[0m\u001b[0;34m.\u001b[0m\u001b[0m_callable_fn\u001b[0m\u001b[0;34m(\u001b[0m\u001b[0;34m*\u001b[0m\u001b[0marray_vals\u001b[0m\u001b[0;34m)\u001b[0m\u001b[0;34m\u001b[0m\u001b[0m\n\u001b[0m\u001b[1;32m   2637\u001b[0m         \u001b[0;32mreturn\u001b[0m \u001b[0mfetched\u001b[0m\u001b[0;34m[\u001b[0m\u001b[0;34m:\u001b[0m\u001b[0mlen\u001b[0m\u001b[0;34m(\u001b[0m\u001b[0mself\u001b[0m\u001b[0;34m.\u001b[0m\u001b[0moutputs\u001b[0m\u001b[0;34m)\u001b[0m\u001b[0;34m]\u001b[0m\u001b[0;34m\u001b[0m\u001b[0m\n\u001b[1;32m   2638\u001b[0m \u001b[0;34m\u001b[0m\u001b[0m\n",
      "\u001b[0;32m~/space/9/lib/python3.6/site-packages/tensorflow/python/client/session.py\u001b[0m in \u001b[0;36m__call__\u001b[0;34m(self, *args)\u001b[0m\n\u001b[1;32m   1449\u001b[0m         \u001b[0;32mif\u001b[0m \u001b[0mself\u001b[0m\u001b[0;34m.\u001b[0m\u001b[0m_session\u001b[0m\u001b[0;34m.\u001b[0m\u001b[0m_created_with_new_api\u001b[0m\u001b[0;34m:\u001b[0m\u001b[0;34m\u001b[0m\u001b[0m\n\u001b[1;32m   1450\u001b[0m           return tf_session.TF_SessionRunCallable(\n\u001b[0;32m-> 1451\u001b[0;31m               self._session._session, self._handle, args, status, None)\n\u001b[0m\u001b[1;32m   1452\u001b[0m         \u001b[0;32melse\u001b[0m\u001b[0;34m:\u001b[0m\u001b[0;34m\u001b[0m\u001b[0m\n\u001b[1;32m   1453\u001b[0m           return tf_session.TF_DeprecatedSessionRunCallable(\n",
      "\u001b[0;31mKeyboardInterrupt\u001b[0m: "
     ]
    }
   ],
   "source": [
    "hist = model.fit(x, y, batch_size=batch_size, epochs=epoch, validation_split=0.1)"
   ]
  },
  {
   "cell_type": "markdown",
   "metadata": {},
   "source": [
    "### 5. Show trained result"
   ]
  },
  {
   "cell_type": "code",
   "execution_count": 196,
   "metadata": {},
   "outputs": [
    {
     "name": "stdout",
     "output_type": "stream",
     "text": [
      "8991/8991 [==============================] - 4s 471us/step\n",
      "Loss: 0.003979589991628238 Acc: 1.0\n"
     ]
    },
    {
     "data": {
      "image/png": "[encoded data removed]",
      "text/plain": [
       "<Figure size 432x288 with 2 Axes>"
      ]
     },
     "metadata": {},
     "output_type": "display_data"
    }
   ],
   "source": [
    "#results\n",
    "test_model(model, [x,x2], y)\n",
    "\n",
    "#graph\n",
    "show_graph(hist)"
   ]
  },
  {
   "cell_type": "markdown",
   "metadata": {},
   "source": [
    "### 6. Predict Future data using trained model"
   ]
  },
  {
   "cell_type": "code",
   "execution_count": 197,
   "metadata": {},
   "outputs": [],
   "source": [
    "meta, test_x, test_y, test_x2 = feed_maker(test, col, scale=False, is_training=False, v=meta)"
   ]
  },
  {
   "cell_type": "code",
   "execution_count": 198,
   "metadata": {
    "scrolled": true
   },
   "outputs": [
    {
     "name": "stdout",
     "output_type": "stream",
     "text": [
      "[575, 574, 575, 575, 575]\n",
      "[0, 574, 575, 574, 575]\n",
      "[575, 575, 575, 575, 575]\n"
     ]
    }
   ],
   "source": [
    "print(one_hot_decode(test_x[0]))\n",
    "print(one_hot_decode(test_y[0]))\n",
    "print(one_hot_decode(test_predict[0]))"
   ]
  },
  {
   "cell_type": "code",
   "execution_count": 199,
   "metadata": {},
   "outputs": [
    {
     "name": "stdout",
     "output_type": "stream",
     "text": [
      "[Example Data]\n",
      "Index=963 X=[571, 571, 572, 572, 572] y=[0, 572, 571, 571, 572], yhat=[0, 0, 569, 567, 521]\n",
      "Index=521 X=[573, 573, 573, 573, 573] y=[0, 572, 572, 572, 572], yhat=[0, 0, 569, 567, 521]\n",
      "Index=445 X=[574, 573, 573, 573, 574] y=[0, 573, 573, 573, 573], yhat=[0, 0, 521, 574, 521]\n",
      "Index=537 X=[571, 571, 572, 572, 571] y=[0, 571, 572, 572, 571], yhat=[0, 0, 569, 567, 569]\n",
      "Index=730 X=[576, 576, 576, 576, 576] y=[0, 576, 575, 576, 576], yhat=[0, 0, 575, 574, 575]\n",
      "Index=316 X=[574, 574, 574, 574, 573] y=[0, 573, 574, 574, 574], yhat=[0, 574, 575, 574, 573]\n",
      "Index=598 X=[573, 573, 573, 573, 572] y=[0, 572, 573, 573, 573], yhat=[0, 0, 569, 567, 521]\n",
      "Index=875 X=[571, 571, 572, 571, 571] y=[0, 571, 570, 571, 571], yhat=[0, 0, 569, 567, 569]\n",
      "Index=504 X=[573, 573, 573, 573, 574] y=[0, 574, 573, 574, 573], yhat=[0, 0, 569, 567, 521]\n",
      "Index=726 X=[576, 576, 576, 576, 576] y=[0, 576, 576, 576, 576], yhat=[0, 0, 575, 574, 575]\n",
      "\n",
      "[Evaluation Results(%)]\n",
      "Strict Equality :0.5, IsClose Equality :17.15\n"
     ]
    }
   ],
   "source": [
    "# predict = get_accuracy(test_x, test_y)\n",
    "# for i in range(5):\n",
    "#     print('y:%s, predict:%s'%(scaler_decode(test_y[i],meta).reshape(1,-1), scaler_decode(predict[i],meta).round().reshape(1,-1)))\n",
    "\n",
    "test_predict = predict_data(test_x)\n",
    "\n",
    "show_result_samples(10, test_predict.shape[0])\n",
    "eval_strict = get_eval_strict()\n",
    "eval_isclose = get_eval_isclose(3)\n",
    "#업다운 추세에 대한 평가지표를 하나 더 추가. 이건 mse가 더 잘 어울리나? 일단은..\n",
    "\n",
    "print('')\n",
    "print('[Evaluation Results(%)]')\n",
    "print('Strict Equality :%s, IsClose Equality :%s'%(round(eval_strict,2), round(eval_isclose,2)))"
   ]
  },
  {
   "cell_type": "markdown",
   "metadata": {},
   "source": [
    "### 7. Reference : Functions"
   ]
  },
  {
   "cell_type": "code",
   "execution_count": 205,
   "metadata": {},
   "outputs": [],
   "source": [
    "#모델 생성\n",
    "def define_models(input_seq, features):\n",
    "    model = Sequential()\n",
    "    model.add(LSTM(hidden, input_shape=(input_seq, features)))\n",
    "    model.add(RepeatVector(input_seq))\n",
    "    model.add(AttentionDecoder(hidden, features))\n",
    "    \n",
    "    return model"
   ]
  },
  {
   "cell_type": "code",
   "execution_count": 200,
   "metadata": {},
   "outputs": [],
   "source": [
    "#common functions\n",
    "def call_candle(currency, minutes, count, to=''):\n",
    "    max_count = 100\n",
    "\n",
    "    if count > max_count:\n",
    "        iter_range = count // max_count\n",
    "        iter_left = count % max_count\n",
    "        total = []\n",
    "\n",
    "        while iter_range:\n",
    "            to_encoded = quote(to)\n",
    "            URL = 'https://api.upbit.com/v1/candles/minutes/' + str(\n",
    "                minutes) + '?market=KRW-' + currency + '&count=' + str(max_count) + '&to=' + to_encoded\n",
    "            req = requests.get(URL)\n",
    "            res = json.loads(req.text)\n",
    "\n",
    "            iter_range -= 1\n",
    "            to = res[-1]['candle_date_time_kst'] + '+09:00'\n",
    "            total += res\n",
    "\n",
    "        if iter_left > 0:\n",
    "            to_encoded = quote(to)\n",
    "            URL = 'https://api.upbit.com/v1/candles/minutes/' + str(\n",
    "                minutes) + '?market=KRW-' + currency + '&count=' + str(iter_left) + '&to=' + to_encoded\n",
    "            req = requests.get(URL)\n",
    "            res = json.loads(req.text)\n",
    "            total += res\n",
    "\n",
    "        return total\n",
    "    else:\n",
    "        to_encoded = quote(to)\n",
    "        URL = 'https://api.upbit.com/v1/candles/minutes/' + str(\n",
    "            minutes) + '?market=KRW-' + currency + '&count=' + str(count) + '&to=' + to_encoded\n",
    "        req = requests.get(URL)\n",
    "        res = json.loads(req.text)\n",
    "        res.reverse()\n",
    "\n",
    "        return res\n",
    "    \n",
    "def load_data(currencies, mins, counts):\n",
    "    #loading data\n",
    "    data_origin = call_candle(currencies, minutes=mins , count=counts, to='2018-11-11T23:00:00+09:00')\n",
    "    data_array = []\n",
    "    for i in data_origin:\n",
    "        data_array.append(list(i.values()))\n",
    "    data = np.array(data_array)\n",
    "    data = data[data[:,2].argsort()] #sort by time\n",
    "    return data\n",
    "\n",
    "def split_data(x, y=False, test_portion=0.1):\n",
    "    if type(x) == list:\n",
    "        test_size = int(len(x[0]) * test_portion)\n",
    "        train_x1, test_x1 = x[0][:-test_size], x[0][-test_size:]\n",
    "        train_x2, test_x2 = x[1][:-test_size], x[1][-test_size:]\n",
    "        train_y, test_y = y[:-test_size], y[-test_size:]\n",
    "\n",
    "        return (train_x1, train_x2, train_y), (test_x1, test_x2, test_y)\n",
    "    elif y == False:\n",
    "        test_size = int(len(x) * test_portion)\n",
    "        train_x, test_x = x[:-test_size], x[-test_size:]\n",
    "\n",
    "        return train_x, test_x\n",
    "\n",
    "def feed_maker(data, col, scale=True, is_training=True, v=None):\n",
    "    if is_training == True:\n",
    "        v = {}\n",
    "    x = {}\n",
    "    \n",
    "    #Missing Value 핸들링 : 각 값들을 median value로 채움\n",
    "    if scale == True:\n",
    "        for i in range(len(col)):\n",
    "            if is_training == True:\n",
    "                v[i] = get_metadata(data[:,col][:,i].astype(float))\n",
    "            x[i] = scale_value(data[:,col][:,i].astype(float), v[i], scale_method='standard')\n",
    "    else:\n",
    "        for i in range(len(col)):\n",
    "            x[i] = data[:,col][:,i].astype(float)\n",
    "    \n",
    "    x_val = np.transpose(np.array(list(x.values())))\n",
    "    \n",
    "    def get_processed_data(data, input_seq, output_seq, features):\n",
    "    \n",
    "        origin = list()\n",
    "        for i in range(len(data)-output_seq +1):\n",
    "            origin.append(data[i:i+input_seq].reshape(1,-1)[0])\n",
    "        origin = np.array(origin)\n",
    "        source = origin[:-output_seq]\n",
    "        target = origin[input_seq:]\n",
    "        target_in = np.concatenate([np.zeros((target.shape[0],1)),target[:,0:output_seq-1]],axis=1)\n",
    "        \n",
    "        source_encoded = to_categorical(source,num_classes=features)\n",
    "        target_encoded = to_categorical(target,num_classes=features)\n",
    "        target_in_encoded = to_categorical(target_in,num_classes=features)\n",
    "\n",
    "        return source_encoded, target_encoded, target_in_encoded\n",
    "\n",
    "    \n",
    "    x, y, x2= get_processed_data(x_val, input_seq, output_seq, features)\n",
    "        \n",
    "    return v, x, y, x2\n",
    "\n",
    "def get_metadata(feature):\n",
    "    obj = {}\n",
    "    obj['min'] = feature.min()\n",
    "    obj['max'] = feature.max()\n",
    "    obj['mean'] = feature.mean()\n",
    "    obj['std'] = feature.std()\n",
    "        \n",
    "    return obj\n",
    "\n",
    "def scale_value(feature, meta, scale_method):\n",
    "    #수동 스케일러\n",
    "    if scale_method == 'minmax':\n",
    "        def minmaxScaler(data, datamin, datamax):\n",
    "            numerator = data - datamin\n",
    "            denominator = datamax - datamin\n",
    "            return numerator / (denominator + 1e-8)\n",
    "        \n",
    "        return minmaxScaler(feature, meta['min'], meta['max'])\n",
    "    elif scale_method == 'standard':\n",
    "        def stdScaler(data, datamean, datastd):\n",
    "            data -= datamean\n",
    "            data /= datastd\n",
    "            return data\n",
    "        return stdScaler(feature, meta['mean'], meta['std'])\n",
    "    else:\n",
    "        pass\n",
    "    \n",
    "def show_graph(hist):\n",
    "    fig, loss_ax = plt.subplots()\n",
    "\n",
    "    acc_ax = loss_ax.twinx()\n",
    "\n",
    "    loss_ax.plot(hist.history['loss'], 'y', label='train loss')\n",
    "    loss_ax.plot(hist.history['val_loss'], 'r', label='val loss')\n",
    "\n",
    "    #acc_ax.plot(hist.history['acc'], 'b', label='train acc')\n",
    "    #acc_ax.plot(hist.history['val_acc'], 'g', label='val acc')\n",
    "\n",
    "    loss_ax.set_xlabel('epoch')\n",
    "    loss_ax.set_ylabel('loss')\n",
    "    #acc_ax.set_ylabel('acc')\n",
    "\n",
    "    loss_ax.legend(loc='upper left')\n",
    "    #acc_ax.legend(loc='lower left')\n",
    "    \n",
    "def test_model(model, testX, testY):\n",
    "    loss, metric = model.evaluate(testX, testY, verbose=1)\n",
    "    print('Loss:',loss, 'Acc:', metric)\n",
    "\n",
    "def one_hot_decode(encoded_seq):\n",
    "    return [np.argmax(vector) for vector in encoded_seq]\n",
    "    \n",
    "#평가 메소드\n",
    "def show_result_samples(num, len_data):\n",
    "    print('[Example Data]')\n",
    "    d = list()\n",
    "    for i in range(10):\n",
    "        d.append(randint(1, len_data))\n",
    "   \n",
    "    for i in d:\n",
    "        print('Index=%s X=%s y=%s, yhat=%s' % (i, one_hot_decode(test_x[i]), one_hot_decode(test_y[i]), one_hot_decode(test_predict[i])))\n",
    "        \n",
    "def get_eval_strict():\n",
    "    total, correct = test_predict.shape[0], 0\n",
    "\n",
    "    for i in range(len(test_predict)):\n",
    "        if np.array_equal(one_hot_decode(test_y[i]), one_hot_decode(test_predict[i])):\n",
    "                correct += 1\n",
    "    return float(correct)/float(total)*100.0   \n",
    "    \n",
    "    \n",
    "def get_eval_isclose(num):\n",
    "    total, correct = test_predict.shape[0], 0\n",
    "\n",
    "    for i in range(len(test_predict)):\n",
    "        if np.isclose(one_hot_decode(test_y[i]), one_hot_decode(test_predict[i])).sum() >= num:\n",
    "            correct += 1\n",
    "    return float(correct)/float(total)*100.0\n",
    "    \n",
    "def get_eval_minmax():\n",
    "    total, correct = test_predict.shape[0], 0\n",
    "\n",
    "    for i in range(len(test_predict)):\n",
    "        if (np.min(one_hot_decode(test_y[i])) == np.min(one_hot_decode(test_predict[i]))) and (np.max(one_hot_decode(test_y[i])) == np.max(one_hot_decode(test_predict[i]))):\n",
    "            correct += 1\n",
    "    return float(correct)/float(total)*100.0\n",
    "\n",
    "\n",
    "\n",
    "def get_accuracy(test_x, test_y):\n",
    "    total, correct = len(test_x), 0\n",
    "    test_predict = model.predict(test_x, verbose=0)\n",
    "    for i in range(total):\n",
    "        if array_equal(scaler_decode(test_y[i], meta), scaler_decode(test_predict[i],meta).round()):\n",
    "            print('y:%s, predict:%s'%(scaler_decode(test_y[i], meta).reshape(1,-1), scaler_decode(test_predict[i],meta).round().reshape(1,-1)))\n",
    "            correct += 1\n",
    "    print('Accuracy: %.2f%%' % (float(correct)/float(total)*100.0))\n",
    "    return test_predict\n",
    "\n",
    "def scaler_decode(data, meta, scale_method='standard'):\n",
    "    if scale_method == 'standard':\n",
    "        data_mean = meta[0]['mean']\n",
    "        data_std = meta[0]['std']\n",
    "        \n",
    "        data_decoded = data.copy()\n",
    "        data_decoded *= data_std\n",
    "        data_decoded += data_mean\n",
    "        \n",
    "        return data_decoded\n",
    "    else:\n",
    "        data_max = meta[0]['max']\n",
    "        data_min = meta[0]['min']\n",
    "        denominator = data_max - data_min\n",
    "        \n",
    "        return data * (denominator + 1e-8) + data_min\n",
    "    \n",
    "def predict_sequence(infenc, infdec, data, n_steps, features):\n",
    "    \n",
    "    state = infenc.predict(data)\n",
    "    target_seq = np.array([0.0 for _ in range(features)]).reshape(1, 1, features)\n",
    "    \n",
    "    output = list()\n",
    "    for t in range(n_steps):\n",
    "        predict, h, c = infdec.predict([target_seq] + state)\n",
    "        output.append(predict[0,0,:])\n",
    "        state = [h, c]\n",
    "        target_seq = predict\n",
    "    return np.array(output)\n",
    "\n",
    "def predict_data(data):\n",
    "    res = list()\n",
    "    \n",
    "    for i in range(len(data)):\n",
    "        predict = predict_sequence(enc, dec, data[i].reshape(1,data[i].shape[0], data[i].shape[1]), output_seq, features)\n",
    "        res.append(predict)\n",
    "    \n",
    "    return np.array(res)"
   ]
  },
  {
   "cell_type": "code",
   "execution_count": null,
   "metadata": {},
   "outputs": [],
   "source": []
  }
 ],
 "metadata": {
  "kernelspec": {
   "display_name": "Python 3",
   "language": "python",
   "name": "python3"
  },
  "language_info": {
   "codemirror_mode": {
    "name": "ipython",
    "version": 3
   },
   "file_extension": ".py",
   "mimetype": "text/x-python",
   "name": "python",
   "nbconvert_exporter": "python",
   "pygments_lexer": "ipython3",
   "version": "3.6.1"
  }
 },
 "nbformat": 4,
 "nbformat_minor": 2
}
