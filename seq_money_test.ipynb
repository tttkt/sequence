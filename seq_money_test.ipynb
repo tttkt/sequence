{
 "cells": [
  {
   "cell_type": "markdown",
   "metadata": {},
   "source": [
    "### 0. Import Libraries"
   ]
  },
  {
   "cell_type": "code",
   "execution_count": null,
   "metadata": {},
   "outputs": [],
   "source": [
    "import numpy as np\n",
    "import pandas as pd\n",
    "import matplotlib.pyplot as plt\n",
    "\n",
    "import math\n",
    "import requests, json\n",
    "from urllib.parse import quote\n",
    "\n",
    "from keras.models import Model\n",
    "from keras.layers import Input, LSTM, Dense\n",
    "from keras.utils import to_categorical"
   ]
  },
  {
   "cell_type": "markdown",
   "metadata": {},
   "source": [
    "### 1. Load Data"
   ]
  },
  {
   "cell_type": "code",
   "execution_count": null,
   "metadata": {},
   "outputs": [],
   "source": [
    "dataset = load_data('XRP', 1, 10000)"
   ]
  },
  {
   "cell_type": "code",
   "execution_count": null,
   "metadata": {},
   "outputs": [],
   "source": [
    "plt.plot(dataset[:,[6]].astype(float)) # todo : 플롯 스타팅 포인트(x) 바꿔그리기"
   ]
  },
  {
   "cell_type": "markdown",
   "metadata": {},
   "source": [
    "### 2. Set constant values / hyperparameters"
   ]
  },
  {
   "cell_type": "code",
   "execution_count": null,
   "metadata": {},
   "outputs": [],
   "source": [
    "col=[6]\n",
    "input_seq = 5\n",
    "output_seq = 5\n",
    "hidden = 128\n",
    "padding = 0\n",
    "batch_size = 256\n",
    "epoch = 10"
   ]
  },
  {
   "cell_type": "markdown",
   "metadata": {},
   "source": [
    "### 3. Process data / Split to train and test"
   ]
  },
  {
   "cell_type": "code",
   "execution_count": null,
   "metadata": {},
   "outputs": [],
   "source": [
    "#cardinality 세팅을 위한 데이터 패딩 처리\n",
    "meta, data_origin, _, features, distance = feed_maker(dataset, col, scale=False)\n",
    "data_padded = data_origin - distance\n",
    "features = features + 1\n",
    "x1, x2, y = get_processed_data(data_padded, input_seq, output_seq, features)\n",
    "train, test = split_data(x1, x2, y, test_portion=0.1)"
   ]
  },
  {
   "cell_type": "markdown",
   "metadata": {},
   "source": [
    "### 4. Build / Train Model"
   ]
  },
  {
   "cell_type": "code",
   "execution_count": null,
   "metadata": {},
   "outputs": [],
   "source": [
    "model, infenc, infdec = define_models(features, features, hidden)\n",
    "model.compile(optimizer='adam', loss='categorical_crossentropy', metrics=['acc']) #메트릭 MAE로 바꿔서 결과 비교해 보기"
   ]
  },
  {
   "cell_type": "code",
   "execution_count": null,
   "metadata": {},
   "outputs": [],
   "source": [
    "hist = model.fit([train[0], train[1]], train[2], batch_size=batch_size, epochs=epoch, validation_split=0.1)"
   ]
  },
  {
   "cell_type": "markdown",
   "metadata": {},
   "source": [
    "### 5. Show trained result"
   ]
  },
  {
   "cell_type": "code",
   "execution_count": null,
   "metadata": {},
   "outputs": [],
   "source": [
    "#results\n",
    "test_model(model, [train[0], train[1]], train[2])\n",
    "\n",
    "#graph\n",
    "show_graph(hist)"
   ]
  },
  {
   "cell_type": "markdown",
   "metadata": {},
   "source": [
    "### 6. Predict Future data using trained model"
   ]
  },
  {
   "cell_type": "code",
   "execution_count": null,
   "metadata": {},
   "outputs": [],
   "source": [
    "test_predict = predict_data(test[0])"
   ]
  },
  {
   "cell_type": "code",
   "execution_count": null,
   "metadata": {},
   "outputs": [],
   "source": [
    "total, correct = test_predict.shape[0], 0\n",
    "\n",
    "for i in range(len(test_predict)):\n",
    "    if np.array_equal(one_hot_decode(test[2][i]), one_hot_decode(test_predict[i])):\n",
    "            correct += 1\n",
    "print('Accuracy: %.2f%%' % (float(correct)/float(total)*100.0))\n",
    "\n",
    "for i in range(10):\n",
    "    print('X=%s y=%s, yhat=%s' % (one_hot_decode(test[0][i]), one_hot_decode(test[2][i]), one_hot_decode(test_predict[i])))"
   ]
  },
  {
   "cell_type": "markdown",
   "metadata": {},
   "source": [
    "### 7. Todo\n",
    "- seq to seq model 동일 데이터로 가장 단순한 것부터 auto encoder까지 결과 비교하는 notebook 만들기\n",
    "- mae metric 으로 다시 세팅해서 결과 보기 (categorical도 제대로 나와야 할 것 같긴 한데 loss 줄이는데 문제가 있는지 체크를..)"
   ]
  },
  {
   "cell_type": "markdown",
   "metadata": {},
   "source": [
    "### 8. Reference : Functions"
   ]
  },
  {
   "cell_type": "code",
   "execution_count": null,
   "metadata": {},
   "outputs": [],
   "source": [
    "#new functions for seq_to_seq\n",
    "#패딩된 데이터를 3개의 seq 데이터로 만들기\n",
    "#x2가 여러개 있을 수 있는가?\n",
    "def get_processed_data(data, input_seq, output_seq, features):\n",
    "    \n",
    "    origin = list()\n",
    "    for i in range(len(data)-output_seq +1):\n",
    "        origin.append(data[i:i+input_seq].reshape(1,-1)[0])\n",
    "    origin = np.array(origin)\n",
    "    source = origin[:-output_seq]\n",
    "    target = origin[input_seq:]\n",
    "    target_in = np.concatenate([np.zeros((target.shape[0],1)),target[:,0:output_seq-1]],axis=1)\n",
    "\n",
    "    source_encoded = to_categorical(source,num_classes=features)\n",
    "    target_encoded = to_categorical(target,num_classes=features)\n",
    "    target_in_encoded = to_categorical(target_in,num_classes=features)\n",
    "\n",
    "    return source_encoded, target_in_encoded, target_encoded\n",
    "#    return source, target_in, target\n",
    "\n",
    "#원핫 디코딩\n",
    "def one_hot_decode(encoded_seq):\n",
    "    return [np.argmax(vector) for vector in encoded_seq]\n",
    "\n",
    "#모델 생성\n",
    "def define_models(n_input, n_output, n_units):\n",
    "    \n",
    "    #인코더 정의\n",
    "    encoder_inputs = Input(shape=(None, n_input))\n",
    "    encoder = LSTM(n_units, return_state=True)\n",
    "    encoder_outputs, state_h, state_c = encoder(encoder_inputs)\n",
    "    encoder_states = [state_h, state_c]\n",
    "    \n",
    "    #디코더 정의\n",
    "    decoder_inputs = Input(shape=(None, n_output))\n",
    "    decoder_lstm = LSTM(n_units, return_sequences=True, return_state=True)\n",
    "    decoder_outputs, _, _ = decoder_lstm(decoder_inputs, initial_state=encoder_states)\n",
    "    decoder_dense = Dense(n_output, activation='softmax')\n",
    "    decoder_outputs = decoder_dense(decoder_outputs)\n",
    "    model = Model([encoder_inputs, decoder_inputs], decoder_outputs)\n",
    "    \n",
    "    # infenc\n",
    "    encoder_model = Model(encoder_inputs, encoder_states)\n",
    "    \n",
    "    # infdec\n",
    "    decoder_state_input_h = Input(shape=(n_units,))\n",
    "    decoder_state_input_c = Input(shape=(n_units,))\n",
    "    decoder_states_inputs = [decoder_state_input_h, decoder_state_input_c]\n",
    "    decoder_outputs, state_h, state_c = decoder_lstm(decoder_inputs, initial_state=decoder_states_inputs)\n",
    "    decoder_states = [state_h, state_c]\n",
    "    decoder_outputs = decoder_dense(decoder_outputs)\n",
    "    decoder_model = Model([decoder_inputs] + decoder_states_inputs, [decoder_outputs] + decoder_states)\n",
    "    \n",
    "    # return all models\n",
    "    return model, encoder_model, decoder_model\n",
    "\n",
    "# 예측을 위한 함수들\n",
    "def predict_sequence(infenc, infdec, data, n_steps, features):\n",
    "    \n",
    "    state = infenc.predict(data)\n",
    "    target_seq = np.array([0.0 for _ in range(features)]).reshape(1, 1, features)\n",
    "    \n",
    "    output = list()\n",
    "    for t in range(n_steps):\n",
    "        predict, h, c = infdec.predict([target_seq] + state)\n",
    "        output.append(predict[0,0,:])\n",
    "        state = [h, c]\n",
    "        target_seq = predict\n",
    "    return np.array(output)\n",
    "\n",
    "def predict_data(data):\n",
    "    res = list()\n",
    "    \n",
    "    for i in range(len(data)):\n",
    "        predict = predict_sequence(infenc, infdec, data[i].reshape(1,data[i].shape[0], data[i].shape[1]), output_seq, features)\n",
    "        res.append(predict)\n",
    "    \n",
    "    return np.array(res)"
   ]
  },
  {
   "cell_type": "code",
   "execution_count": null,
   "metadata": {},
   "outputs": [],
   "source": [
    "#common functions\n",
    "def call_candle(currency, minutes, count, to=''):\n",
    "    max_count = 100\n",
    "\n",
    "    if count > max_count:\n",
    "        iter_range = count // max_count\n",
    "        iter_left = count % max_count\n",
    "        total = []\n",
    "\n",
    "        while iter_range:\n",
    "            to_encoded = quote(to)\n",
    "            URL = 'https://api.upbit.com/v1/candles/minutes/' + str(\n",
    "                minutes) + '?market=KRW-' + currency + '&count=' + str(max_count) + '&to=' + to_encoded\n",
    "            req = requests.get(URL)\n",
    "            res = json.loads(req.text)\n",
    "\n",
    "            iter_range -= 1\n",
    "            to = res[-1]['candle_date_time_kst'] + '+09:00'\n",
    "            total += res\n",
    "\n",
    "        if iter_left > 0:\n",
    "            to_encoded = quote(to)\n",
    "            URL = 'https://api.upbit.com/v1/candles/minutes/' + str(\n",
    "                minutes) + '?market=KRW-' + currency + '&count=' + str(iter_left) + '&to=' + to_encoded\n",
    "            req = requests.get(URL)\n",
    "            res = json.loads(req.text)\n",
    "            total += res\n",
    "\n",
    "        return total\n",
    "    else:\n",
    "        to_encoded = quote(to)\n",
    "        URL = 'https://api.upbit.com/v1/candles/minutes/' + str(\n",
    "            minutes) + '?market=KRW-' + currency + '&count=' + str(count) + '&to=' + to_encoded\n",
    "        req = requests.get(URL)\n",
    "        res = json.loads(req.text)\n",
    "        res.reverse()\n",
    "\n",
    "        return res\n",
    "    \n",
    "def load_data(currencies, mins, counts):\n",
    "    #loading data\n",
    "    data_origin = call_candle(currencies, minutes=mins , count=counts, to='2018-11-11T23:00:00+09:00')\n",
    "    data_array = []\n",
    "    for i in data_origin:\n",
    "        data_array.append(list(i.values()))\n",
    "    data = np.array(data_array)\n",
    "    data = data[data[:,2].argsort()] #sort by time\n",
    "    return data\n",
    "\n",
    "#seq 용으로 커스텀. 무조건 3*2 6개의 결과가 나오도록 되어 있음.\n",
    "def split_data(x1, x2, y, test_portion=0.1):\n",
    "    test_size = int(len(x1) * test_portion)\n",
    "    train_x1, test_x1 = x1[:-test_size], x1[-test_size:]\n",
    "    train_x2, test_x2 = x2[:-test_size], x2[-test_size:]\n",
    "    train_y, test_y = y[:-test_size], y[-test_size:]\n",
    "    \n",
    "    return (train_x1, train_x2, train_y), (test_x1, test_x2, test_y)\n",
    "\n",
    "def feed_maker(data, col, scale=True, is_training=True, v=None):\n",
    "    if is_training == True:\n",
    "        v = {}\n",
    "    x = {}\n",
    "    \n",
    "    #Missing Value 핸들링 : 각 값들을 median value로 채움\n",
    "    if scale == True:\n",
    "        for i in range(len(col)):\n",
    "            if is_training == True:\n",
    "                v[i] = get_metadata(data[:,col][:,i].astype(float))\n",
    "            x[i] = scale_value(data[:,col][:,i].astype(float), v[i], scale=True)\n",
    "    else:\n",
    "        for i in range(len(col)):\n",
    "            x[i] = data[:,col][:,i].astype(float)\n",
    "    \n",
    "    x_val = np.transpose(np.array(list(x.values())))\n",
    "    y_val = x_val[:,[0]]\n",
    "    \n",
    "    data_min, data_max = np.min(x_val), np.max(x_val)\n",
    "    features = int(data_max - data_min + (2*padding))\n",
    "    distance = data_min - padding\n",
    "        \n",
    "    return v, x_val, y_val, features, distance\n",
    "\n",
    "def get_metadata(feature):\n",
    "    obj = {}\n",
    "    obj['min'] = feature.min()\n",
    "    obj['max'] = feature.max()\n",
    "        \n",
    "    return obj\n",
    "\n",
    "def scale_value(feature, meta, scale):\n",
    "    #수동 스케일러\n",
    "    if scale == True:\n",
    "        def minmaxScaler(data, datamin, datamax):\n",
    "            numerator = data - datamin\n",
    "            denominator = datamax - datamin\n",
    "            return numerator / (denominator + 1e-8)\n",
    "        \n",
    "        return minmaxScaler(feature, meta['min'], meta['max'])\n",
    "\n",
    "    else:\n",
    "        pass\n",
    "    \n",
    "def show_graph(hist):\n",
    "    fig, loss_ax = plt.subplots()\n",
    "\n",
    "    acc_ax = loss_ax.twinx()\n",
    "\n",
    "    loss_ax.plot(hist.history['loss'], 'y', label='train loss')\n",
    "    loss_ax.plot(hist.history['val_loss'], 'r', label='val loss')\n",
    "\n",
    "    acc_ax.plot(hist.history['mean_absolute_error'], 'b', label='train mae')\n",
    "    acc_ax.plot(hist.history['val_mean_absolute_error'], 'g', label='val mae')\n",
    "\n",
    "    loss_ax.set_xlabel('epoch')\n",
    "    loss_ax.set_ylabel('loss')\n",
    "    acc_ax.set_ylabel('mean_absolute_error')\n",
    "\n",
    "    loss_ax.legend(loc='upper left')\n",
    "    acc_ax.legend(loc='lower left')\n",
    "    \n",
    "def test_model(model, testX, testY):\n",
    "    loss, metric = model.evaluate(testX, testY, verbose=1)\n",
    "    print('Loss:',loss, 'Acc:', metric)"
   ]
  },
  {
   "cell_type": "code",
   "execution_count": null,
   "metadata": {},
   "outputs": [],
   "source": []
  }
 ],
 "metadata": {
  "kernelspec": {
   "display_name": "Python 3",
   "language": "python",
   "name": "python3"
  },
  "language_info": {
   "codemirror_mode": {
    "name": "ipython",
    "version": 3
   },
   "file_extension": ".py",
   "mimetype": "text/x-python",
   "name": "python",
   "nbconvert_exporter": "python",
   "pygments_lexer": "ipython3",
   "version": "3.7.0"
  }
 },
 "nbformat": 4,
 "nbformat_minor": 2
}
