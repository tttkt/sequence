{
 "cells": [
  {
   "cell_type": "code",
   "execution_count": 8,
   "metadata": {},
   "outputs": [],
   "source": [
    "dataset = load_data('XRP', 1, 1000)"
   ]
  },
  {
   "cell_type": "code",
   "execution_count": 18,
   "metadata": {},
   "outputs": [],
   "source": [
    "col=[6]\n",
    "meta, data, _ = feed_maker(dataset, col, scale=False)"
   ]
  },
  {
   "cell_type": "code",
   "execution_count": 20,
   "metadata": {},
   "outputs": [
    {
     "data": {
      "text/plain": [
       "1000"
      ]
     },
     "execution_count": 20,
     "metadata": {},
     "output_type": "execute_result"
    }
   ],
   "source": [
    "len(data)"
   ]
  },
  {
   "cell_type": "code",
   "execution_count": 10,
   "metadata": {},
   "outputs": [
    {
     "data": {
      "text/plain": [
       "(1000, 11)"
      ]
     },
     "execution_count": 10,
     "metadata": {},
     "output_type": "execute_result"
    }
   ],
   "source": [
    "def prepare_data(n_in, n_out, cardinality, n_samples):\n",
    "    "
   ]
  },
  {
   "cell_type": "code",
   "execution_count": 1,
   "metadata": {},
   "outputs": [],
   "source": [
    "# 피쳐 계산? 예를 들어 트레이닝 기간 내 [평균가격/최근 n개 가격]이 529 라고 하면 언더 100 오버 100 정도 잡고 패딩의 민/맥스가 각 패딩의 50% 정도 되는 지점에 (예를 들어 +50) 다시 업데이트\n",
    "# source / target / target_in \n",
    "# 데이터 가로로 쭉 줄세우고 10개씩 index 0 부터 +1 반복해서 가져온 뒤에, 앞에서 5개 끊어서 소스/ 뒤에서 5개 끊어서 타겟으로 만듬\n",
    "# 어떻게 피쳐 업데이트할건지에 대한 고민 (o)"
   ]
  },
  {
   "cell_type": "code",
   "execution_count": 7,
   "metadata": {},
   "outputs": [],
   "source": [
    "import numpy as np\n",
    "import pandas as pd\n",
    "import matplotlib.pyplot as plt\n",
    "\n",
    "import math\n",
    "import requests, json\n",
    "from urllib.parse import quote"
   ]
  },
  {
   "cell_type": "code",
   "execution_count": null,
   "metadata": {},
   "outputs": [],
   "source": [
    "#데이터셋 생성\n",
    "def get_dataset(n_in, n_out, cardinality, n_samples):\n",
    "    X1, X2, y = list(), list(), list()\n",
    "    \n",
    "    for _ in range(n_samples):\n",
    "        # generate source sequence\n",
    "        source = generate_sequence(n_in, cardinality)\n",
    "        target = list(np.arange(source[0] + 5,source[0]+n_out+5))\n",
    "#         print(source)\n",
    "#         print(target)\n",
    "        \n",
    "        target_in = [0] + target[:-1]\n",
    "#         print('target:',target)\n",
    "#         print('target-1:',target[:-1])\n",
    "#         print('target_in:',target_in)\n",
    "        \n",
    "        # encode\n",
    "        src_encoded = to_categorical(source, num_classes=cardinality)\n",
    "        tar_encoded = to_categorical(target, num_classes=cardinality)\n",
    "        tar2_encoded = to_categorical(target_in, num_classes=cardinality)\n",
    "        \n",
    "        # store\n",
    "        X1.append(src_encoded)\n",
    "        X2.append(tar2_encoded)\n",
    "        y.append(tar_encoded)\n",
    "    return np.array(X1), np.array(X2), np.array(y)\n",
    "\n",
    "#원핫 디코딩\n",
    "def one_hot_decode(encoded_seq):\n",
    "    return [np.argmax(vector) for vector in encoded_seq]\n",
    "\n",
    "#모델 생성\n",
    "def define_models(n_input, n_output, n_units):\n",
    "    \n",
    "    #인코더 정의\n",
    "    encoder_inputs = Input(shape=(None, n_input))\n",
    "    encoder = LSTM(n_units, return_state=True)\n",
    "    encoder_outputs, state_h, state_c = encoder(encoder_inputs)\n",
    "    encoder_states = [state_h, state_c]\n",
    "    \n",
    "    #디코더 정의\n",
    "    decoder_inputs = Input(shape=(None, n_output))\n",
    "    decoder_lstm = LSTM(n_units, return_sequences=True, return_state=True)\n",
    "    decoder_outputs, _, _ = decoder_lstm(decoder_inputs, initial_state=encoder_states)\n",
    "    decoder_dense = Dense(n_output, activation='softmax')\n",
    "    decoder_outputs = decoder_dense(decoder_outputs)\n",
    "    model = Model([encoder_inputs, decoder_inputs], decoder_outputs)\n",
    "    \n",
    "    # define inference encoder\n",
    "    encoder_model = Model(encoder_inputs, encoder_states)\n",
    "    \n",
    "    # define inference decoder\n",
    "    decoder_state_input_h = Input(shape=(n_units,))\n",
    "    decoder_state_input_c = Input(shape=(n_units,))\n",
    "    decoder_states_inputs = [decoder_state_input_h, decoder_state_input_c]\n",
    "    decoder_outputs, state_h, state_c = decoder_lstm(decoder_inputs, initial_state=decoder_states_inputs)\n",
    "    decoder_states = [state_h, state_c]\n",
    "    decoder_outputs = decoder_dense(decoder_outputs)\n",
    "    decoder_model = Model([decoder_inputs] + decoder_states_inputs, [decoder_outputs] + decoder_states)\n",
    "    \n",
    "    # return all models\n",
    "    return model, encoder_model, decoder_model\n",
    "\n",
    "# 시퀀스 프레딕트\n",
    "def predict_sequence(infenc, infdec, source, n_steps, cardinality):\n",
    "    # encode\n",
    "    state = infenc.predict(source)\n",
    "    # start of sequence input\n",
    "    target_seq = np.array([0.0 for _ in range(cardinality)]).reshape(1, 1, cardinality)\n",
    "    # collect predictions\n",
    "    output = list()\n",
    "    for t in range(n_steps):\n",
    "        # predict next char\n",
    "        yhat, h, c = infdec.predict([target_seq] + state)\n",
    "        # store prediction\n",
    "        output.append(yhat[0,0,:])\n",
    "        # update state\n",
    "        state = [h, c]\n",
    "        # update target sequence\n",
    "        target_seq = yhat\n",
    "    return np.array(output)"
   ]
  },
  {
   "cell_type": "code",
   "execution_count": 15,
   "metadata": {},
   "outputs": [],
   "source": [
    "#old functions\n",
    "def call_candle(currency, minutes, count, to=''):\n",
    "    max_count = 100\n",
    "\n",
    "    if count > max_count:\n",
    "        iter_range = count // max_count\n",
    "        iter_left = count % max_count\n",
    "        total = []\n",
    "\n",
    "        while iter_range:\n",
    "            to_encoded = quote(to)\n",
    "            URL = 'https://api.upbit.com/v1/candles/minutes/' + str(\n",
    "                minutes) + '?market=KRW-' + currency + '&count=' + str(max_count) + '&to=' + to_encoded\n",
    "            req = requests.get(URL)\n",
    "            res = json.loads(req.text)\n",
    "\n",
    "            iter_range -= 1\n",
    "            to = res[-1]['candle_date_time_kst'] + '+09:00'\n",
    "            total += res\n",
    "\n",
    "        if iter_left > 0:\n",
    "            to_encoded = quote(to)\n",
    "            URL = 'https://api.upbit.com/v1/candles/minutes/' + str(\n",
    "                minutes) + '?market=KRW-' + currency + '&count=' + str(iter_left) + '&to=' + to_encoded\n",
    "            req = requests.get(URL)\n",
    "            res = json.loads(req.text)\n",
    "            total += res\n",
    "\n",
    "        return total\n",
    "    else:\n",
    "        to_encoded = quote(to)\n",
    "        URL = 'https://api.upbit.com/v1/candles/minutes/' + str(\n",
    "            minutes) + '?market=KRW-' + currency + '&count=' + str(count) + '&to=' + to_encoded\n",
    "        req = requests.get(URL)\n",
    "        res = json.loads(req.text)\n",
    "        res.reverse()\n",
    "\n",
    "        return res\n",
    "    \n",
    "def load_data(currencies, mins, counts):\n",
    "    #loading data\n",
    "    data_origin = call_candle(currencies, minutes=mins , count=counts, to='2018-11-11T23:00:00+09:00')\n",
    "    data_array = []\n",
    "    for i in data_origin:\n",
    "        data_array.append(list(i.values()))\n",
    "    data = np.array(data_array)\n",
    "    data = data[data[:,2].argsort()] #sort by time\n",
    "    return data\n",
    "\n",
    "def feed_maker(data, col, scale=True, is_training=True, v=None):\n",
    "    if is_training == True:\n",
    "        v = {}\n",
    "    x = {}\n",
    "    \n",
    "    #Missing Value 핸들링 : 각 값들을 median value로 채움\n",
    "    if scale == True:\n",
    "        for i in range(len(col)):\n",
    "            if is_training == True:\n",
    "                v[i] = get_metadata(data[:,col][:,i].astype(float))\n",
    "            x[i] = scale_value(data[:,col][:,i].astype(float), v[i], scale=True)\n",
    "    else:\n",
    "        for i in range(len(col)):\n",
    "            x[i] = data[:,col][:,i].astype(float)\n",
    "    \n",
    "    x_val = np.transpose(np.array(list(x.values())))\n",
    "    y_val = x_val[:,[0]]\n",
    "        \n",
    "    return v, x_val, y_val\n",
    "\n",
    "def get_metadata(feature):\n",
    "    obj = {}\n",
    "    obj['min'] = feature.min()\n",
    "    obj['max'] = feature.max()\n",
    "        \n",
    "    return obj\n",
    "\n",
    "def scale_value(feature, meta, scale):\n",
    "    #수동 스케일러\n",
    "    if scale == True:\n",
    "        def minmaxScaler(data, datamin, datamax):\n",
    "            numerator = data - datamin\n",
    "            denominator = datamax - datamin\n",
    "            return numerator / (denominator + 1e-8)\n",
    "        \n",
    "        return minmaxScaler(feature, meta['min'], meta['max'])\n",
    "\n",
    "    else:\n",
    "        pass"
   ]
  },
  {
   "cell_type": "code",
   "execution_count": null,
   "metadata": {},
   "outputs": [],
   "source": []
  }
 ],
 "metadata": {
  "kernelspec": {
   "display_name": "Python 3",
   "language": "python",
   "name": "python3"
  },
  "language_info": {
   "codemirror_mode": {
    "name": "ipython",
    "version": 3
   },
   "file_extension": ".py",
   "mimetype": "text/x-python",
   "name": "python",
   "nbconvert_exporter": "python",
   "pygments_lexer": "ipython3",
   "version": "3.6.1"
  }
 },
 "nbformat": 4,
 "nbformat_minor": 2
}
